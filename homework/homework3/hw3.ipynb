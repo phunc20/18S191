{
 "cells": [
  {
   "cell_type": "code",
   "execution_count": 2,
   "id": "chief-pasta",
   "metadata": {},
   "outputs": [],
   "source": [
    "from collections import namedtuple\n",
    "import numpy as np"
   ]
  },
  {
   "cell_type": "code",
   "execution_count": 3,
   "id": "addressed-search",
   "metadata": {},
   "outputs": [
    {
     "name": "stdout",
     "output_type": "stream",
     "text": [
      "Un bosque es un ecosistema donde la vegetación predominante la constituyen los árboles y matas.1​ Estas comunidades de plantas cubren grandes áreas del globo terráqueo y funcionan como hábitats para los animales, moduladores de flujos hidrológicos y conservadores del suelo, constituyendo uno de los aspectos más importantes de la biosfera de la Tierra. Aunque a menudo se han considerado como consumidores de dióxido de carbono atmosférico, los bosques maduros son prácticamente neutros en cuanto al carbono, y son solamente los alterados y los jóvenes los que actúan como dichos consumidores.2​3​ De cualquier manera, los bosques maduros juegan un importante papel en el ciclo global del carbono, como reservorios estables de carbono y su eliminación conlleva un incremento de los niveles de dióxido de carbono atmosférico.\n",
      "\n",
      "Los bosques pueden hallarse en todas las regiones capaces de mantener el crecimiento de árboles, hasta la línea de árboles, excepto donde la frecuencia de fuego natural es demasiado alta, o donde el ambiente ha sido perjudicado por procesos naturales o por actividades humanas. Los bosques a veces contienen muchas especies de árboles dentro de una pequeña área (como la selva lluviosa tropical y el bosque templado caducifolio), o relativamente pocas especies en áreas grandes (por ejemplo, la taiga y bosques áridos montañosos de coníferas). Los bosques son a menudo hogar de muchos animales y especies de plantas, y la biomasa por área de unidad es alta comparada a otras comunidades de vegetación. La mayor parte de esta biomasa se halla en el subsuelo en los sistemas de raíces y como detritos de plantas parcialmente descompuestos. El componente leñoso de un bosque contiene lignina, cuya descomposición es relativamente lenta comparado con otros materiales orgánicos como la celulosa y otros carbohidratos. Los bosques son áreas naturales y silvestre\n"
     ]
    }
   ],
   "source": [
    "samples = namedtuple(\"samples\", [\"English\", \"Spanish\"])\n",
    "samples.English = \"\"\"Although the word forest is commonly used, there is no universally recognised precise definition, with more than 800 definitions of forest used around the world.[4] Although a forest is usually defined by the presence of trees, under many definitions an area completely lacking trees may still be considered a forest if it grew trees in the past, will grow trees in the future,[9] or was legally designated as a forest regardless of vegetation type.[10][11]\n",
    "\t\n",
    "The word forest derives from the Old French forest (also forès), denoting \"forest, vast expanse covered by trees\"; forest was first introduced into English as the word denoting wild land set aside for hunting[14] without the necessity in definition of having trees on the land.[15] Possibly a borrowing, probably via Frankish or Old High German, of the Medieval Latin foresta, denoting \"open wood\", Carolingian scribes first used foresta in the Capitularies of Charlemagne specifically to denote the royal hunting grounds of the King. The word was not endemic to Romance languages, e. g. native words for forest in the Romance languages derived from the Latin silva, which denoted \"forest\" and \"wood(land)\" (confer the English sylva and sylvan); confer the Italian, Spanish, and Portuguese selva; the Romanian silvă; and the Old French selve, and cognates in Romance languages, e. g. the Italian foresta, Spanish and Portuguese floresta, etc., are all ultimately derivations of the French word.\"\"\"\n",
    "\n",
    "samples.Spanish = \"\"\"Un bosque es un ecosistema donde la vegetación predominante la constituyen los árboles y matas.1​ Estas comunidades de plantas cubren grandes áreas del globo terráqueo y funcionan como hábitats para los animales, moduladores de flujos hidrológicos y conservadores del suelo, constituyendo uno de los aspectos más importantes de la biosfera de la Tierra. Aunque a menudo se han considerado como consumidores de dióxido de carbono atmosférico, los bosques maduros son prácticamente neutros en cuanto al carbono, y son solamente los alterados y los jóvenes los que actúan como dichos consumidores.2​3​ De cualquier manera, los bosques maduros juegan un importante papel en el ciclo global del carbono, como reservorios estables de carbono y su eliminación conlleva un incremento de los niveles de dióxido de carbono atmosférico.\n",
    "\n",
    "Los bosques pueden hallarse en todas las regiones capaces de mantener el crecimiento de árboles, hasta la línea de árboles, excepto donde la frecuencia de fuego natural es demasiado alta, o donde el ambiente ha sido perjudicado por procesos naturales o por actividades humanas. Los bosques a veces contienen muchas especies de árboles dentro de una pequeña área (como la selva lluviosa tropical y el bosque templado caducifolio), o relativamente pocas especies en áreas grandes (por ejemplo, la taiga y bosques áridos montañosos de coníferas). Los bosques son a menudo hogar de muchos animales y especies de plantas, y la biomasa por área de unidad es alta comparada a otras comunidades de vegetación. La mayor parte de esta biomasa se halla en el subsuelo en los sistemas de raíces y como detritos de plantas parcialmente descompuestos. El componente leñoso de un bosque contiene lignina, cuya descomposición es relativamente lenta comparado con otros materiales orgánicos como la celulosa y otros carbohidratos. Los bosques son áreas naturales y silvestre\"\"\"\n",
    "#print(samples.English)\n",
    "print(samples.Spanish)"
   ]
  },
  {
   "cell_type": "raw",
   "id": "aging-utility",
   "metadata": {},
   "source": [
    "from unidecode import unidecode\n",
    "# This has to be pip installed."
   ]
  },
  {
   "cell_type": "code",
   "execution_count": 4,
   "id": "according-temperature",
   "metadata": {},
   "outputs": [],
   "source": [
    "import unicodedata"
   ]
  },
  {
   "cell_type": "code",
   "execution_count": 5,
   "id": "announced-edgar",
   "metadata": {},
   "outputs": [
    {
     "data": {
      "text/plain": [
       "b'Un bosque es un ecosistema donde la vegetacion predominante la constituyen los arboles y matas.1 Estas comunidades de plantas cubren grandes areas del globo terraqueo y funcionan como habitats para los animales, moduladores de flujos hidrologicos y conservadores del suelo, constituyendo uno de los aspectos mas importantes de la biosfera de la Tierra. Aunque a menudo se han considerado como consumidores de dioxido de carbono atmosferico, los bosques maduros son practicamente neutros en cuanto al carbono, y son solamente los alterados y los jovenes los que actuan como dichos consumidores.23 De cualquier manera, los bosques maduros juegan un importante papel en el ciclo global del carbono, como reservorios estables de carbono y su eliminacion conlleva un incremento de los niveles de dioxido de carbono atmosferico.\\n\\nLos bosques pueden hallarse en todas las regiones capaces de mantener el crecimiento de arboles, hasta la linea de arboles, excepto donde la frecuencia de fuego natural es demasiado alta, o donde el ambiente ha sido perjudicado por procesos naturales o por actividades humanas. Los bosques a veces contienen muchas especies de arboles dentro de una pequena area (como la selva lluviosa tropical y el bosque templado caducifolio), o relativamente pocas especies en areas grandes (por ejemplo, la taiga y bosques aridos montanosos de coniferas). Los bosques son a menudo hogar de muchos animales y especies de plantas, y la biomasa por area de unidad es alta comparada a otras comunidades de vegetacion. La mayor parte de esta biomasa se halla en el subsuelo en los sistemas de raices y como detritos de plantas parcialmente descompuestos. El componente lenoso de un bosque contiene lignina, cuya descomposicion es relativamente lenta comparado con otros materiales organicos como la celulosa y otros carbohidratos. Los bosques son areas naturales y silvestre'"
      ]
     },
     "execution_count": 5,
     "metadata": {},
     "output_type": "execute_result"
    }
   ],
   "source": [
    "normalized = unicodedata.normalize('NFKD', samples.Spanish).encode('ASCII', 'ignore')\n",
    "normalized"
   ]
  },
  {
   "cell_type": "code",
   "execution_count": 6,
   "id": "helpful-young",
   "metadata": {},
   "outputs": [
    {
     "data": {
      "text/plain": [
       "bytes"
      ]
     },
     "execution_count": 6,
     "metadata": {},
     "output_type": "execute_result"
    }
   ],
   "source": [
    "type(normalized)"
   ]
  },
  {
   "cell_type": "code",
   "execution_count": 7,
   "id": "alternative-carroll",
   "metadata": {},
   "outputs": [
    {
     "data": {
      "text/plain": [
       "'abc'"
      ]
     },
     "execution_count": 7,
     "metadata": {},
     "output_type": "execute_result"
    }
   ],
   "source": [
    "\"ABC\".lower()"
   ]
  },
  {
   "cell_type": "code",
   "execution_count": 8,
   "id": "decimal-lodging",
   "metadata": {},
   "outputs": [
    {
     "data": {
      "text/plain": [
       "\"b'Un bosque es un ecosistema donde la vegetacion predominante la constituyen los arboles y matas.1 Estas comunidades de plantas cubren grandes areas del globo terraqueo y funcionan como habitats para los animales, moduladores de flujos hidrologicos y conservadores del suelo, constituyendo uno de los aspectos mas importantes de la biosfera de la Tierra. Aunque a menudo se han considerado como consumidores de dioxido de carbono atmosferico, los bosques maduros son practicamente neutros en cuanto al carbono, y son solamente los alterados y los jovenes los que actuan como dichos consumidores.23 De cualquier manera, los bosques maduros juegan un importante papel en el ciclo global del carbono, como reservorios estables de carbono y su eliminacion conlleva un incremento de los niveles de dioxido de carbono atmosferico.\\\\n\\\\nLos bosques pueden hallarse en todas las regiones capaces de mantener el crecimiento de arboles, hasta la linea de arboles, excepto donde la frecuencia de fuego natural es demasiado alta, o donde el ambiente ha sido perjudicado por procesos naturales o por actividades humanas. Los bosques a veces contienen muchas especies de arboles dentro de una pequena area (como la selva lluviosa tropical y el bosque templado caducifolio), o relativamente pocas especies en areas grandes (por ejemplo, la taiga y bosques aridos montanosos de coniferas). Los bosques son a menudo hogar de muchos animales y especies de plantas, y la biomasa por area de unidad es alta comparada a otras comunidades de vegetacion. La mayor parte de esta biomasa se halla en el subsuelo en los sistemas de raices y como detritos de plantas parcialmente descompuestos. El componente lenoso de un bosque contiene lignina, cuya descomposicion es relativamente lenta comparado con otros materiales organicos como la celulosa y otros carbohidratos. Los bosques son areas naturales y silvestre'\""
      ]
     },
     "execution_count": 8,
     "metadata": {},
     "output_type": "execute_result"
    }
   ],
   "source": [
    "str(normalized)"
   ]
  },
  {
   "cell_type": "code",
   "execution_count": 9,
   "id": "brazilian-superior",
   "metadata": {},
   "outputs": [
    {
     "data": {
      "text/plain": [
       "'Un bosque es un ecosistema donde la vegetacion predominante la constituyen los arboles y matas.1 Estas comunidades de plantas cubren grandes areas del globo terraqueo y funcionan como habitats para los animales, moduladores de flujos hidrologicos y conservadores del suelo, constituyendo uno de los aspectos mas importantes de la biosfera de la Tierra. Aunque a menudo se han considerado como consumidores de dioxido de carbono atmosferico, los bosques maduros son practicamente neutros en cuanto al carbono, y son solamente los alterados y los jovenes los que actuan como dichos consumidores.23 De cualquier manera, los bosques maduros juegan un importante papel en el ciclo global del carbono, como reservorios estables de carbono y su eliminacion conlleva un incremento de los niveles de dioxido de carbono atmosferico.\\n\\nLos bosques pueden hallarse en todas las regiones capaces de mantener el crecimiento de arboles, hasta la linea de arboles, excepto donde la frecuencia de fuego natural es demasiado alta, o donde el ambiente ha sido perjudicado por procesos naturales o por actividades humanas. Los bosques a veces contienen muchas especies de arboles dentro de una pequena area (como la selva lluviosa tropical y el bosque templado caducifolio), o relativamente pocas especies en areas grandes (por ejemplo, la taiga y bosques aridos montanosos de coniferas). Los bosques son a menudo hogar de muchos animales y especies de plantas, y la biomasa por area de unidad es alta comparada a otras comunidades de vegetacion. La mayor parte de esta biomasa se halla en el subsuelo en los sistemas de raices y como detritos de plantas parcialmente descompuestos. El componente lenoso de un bosque contiene lignina, cuya descomposicion es relativamente lenta comparado con otros materiales organicos como la celulosa y otros carbohidratos. Los bosques son areas naturales y silvestre'"
      ]
     },
     "execution_count": 9,
     "metadata": {},
     "output_type": "execute_result"
    }
   ],
   "source": [
    "normalized.decode(\"ASCII\")"
   ]
  },
  {
   "cell_type": "code",
   "execution_count": 10,
   "id": "supreme-jones",
   "metadata": {},
   "outputs": [
    {
     "data": {
      "text/plain": [
       "str"
      ]
     },
     "execution_count": 10,
     "metadata": {},
     "output_type": "execute_result"
    }
   ],
   "source": [
    "type(normalized.decode(\"ASCII\"))"
   ]
  },
  {
   "cell_type": "markdown",
   "id": "occupational-aside",
   "metadata": {},
   "source": [
    "### `unicodedata.normalize`"
   ]
  },
  {
   "cell_type": "code",
   "execution_count": 11,
   "id": "controlled-relation",
   "metadata": {},
   "outputs": [
    {
     "name": "stdout",
     "output_type": "stream",
     "text": [
      "Help on built-in function normalize in module unicodedata:\n",
      "\n",
      "normalize(form, unistr, /)\n",
      "    Return the normal form 'form' for the Unicode string unistr.\n",
      "    \n",
      "    Valid values for form are 'NFC', 'NFKC', 'NFD', and 'NFKD'.\n",
      "\n"
     ]
    }
   ],
   "source": [
    "help(unicodedata.normalize)"
   ]
  },
  {
   "cell_type": "code",
   "execution_count": 12,
   "id": "fourth-credits",
   "metadata": {},
   "outputs": [
    {
     "data": {
      "text/plain": [
       "'Un bosque es un ecosistema donde la vegetación predominante la constituyen los árboles y matas.1\\u200b Estas comunidades de plantas cubren grandes áreas del globo terráqueo y funcionan como hábitats para los animales, moduladores de flujos hidrológicos y conservadores del suelo, constituyendo uno de los aspectos más importantes de la biosfera de la Tierra. Aunque a menudo se han considerado como consumidores de dióxido de carbono atmosférico, los bosques maduros son prácticamente neutros en cuanto al carbono, y son solamente los alterados y los jóvenes los que actúan como dichos consumidores.2\\u200b3\\u200b De cualquier manera, los bosques maduros juegan un importante papel en el ciclo global del carbono, como reservorios estables de carbono y su eliminación conlleva un incremento de los niveles de dióxido de carbono atmosférico.\\n\\nLos bosques pueden hallarse en todas las regiones capaces de mantener el crecimiento de árboles, hasta la línea de árboles, excepto donde la frecuencia de fuego natural es demasiado alta, o donde el ambiente ha sido perjudicado por procesos naturales o por actividades humanas. Los bosques a veces contienen muchas especies de árboles dentro de una pequeña área (como la selva lluviosa tropical y el bosque templado caducifolio), o relativamente pocas especies en áreas grandes (por ejemplo, la taiga y bosques áridos montañosos de coníferas). Los bosques son a menudo hogar de muchos animales y especies de plantas, y la biomasa por área de unidad es alta comparada a otras comunidades de vegetación. La mayor parte de esta biomasa se halla en el subsuelo en los sistemas de raíces y como detritos de plantas parcialmente descompuestos. El componente leñoso de un bosque contiene lignina, cuya descomposición es relativamente lenta comparado con otros materiales orgánicos como la celulosa y otros carbohidratos. Los bosques son áreas naturales y silvestre'"
      ]
     },
     "execution_count": 12,
     "metadata": {},
     "output_type": "execute_result"
    }
   ],
   "source": [
    "unicodedata.normalize('NFKD', samples.Spanish)"
   ]
  },
  {
   "cell_type": "code",
   "execution_count": 13,
   "id": "swiss-trick",
   "metadata": {},
   "outputs": [
    {
     "data": {
      "text/plain": [
       "str"
      ]
     },
     "execution_count": 13,
     "metadata": {},
     "output_type": "execute_result"
    }
   ],
   "source": [
    "type(unicodedata.normalize('NFKD', samples.Spanish))"
   ]
  },
  {
   "cell_type": "code",
   "execution_count": 14,
   "id": "formal-equilibrium",
   "metadata": {},
   "outputs": [
    {
     "name": "stdout",
     "output_type": "stream",
     "text": [
      "Help on built-in function encode:\n",
      "\n",
      "encode(encoding='utf-8', errors='strict') method of builtins.str instance\n",
      "    Encode the string using the codec registered for encoding.\n",
      "    \n",
      "    encoding\n",
      "      The encoding in which to encode the string.\n",
      "    errors\n",
      "      The error handling scheme to use for encoding errors.\n",
      "      The default is 'strict' meaning that encoding errors raise a\n",
      "      UnicodeEncodeError.  Other possible values are 'ignore', 'replace' and\n",
      "      'xmlcharrefreplace' as well as any other name registered with\n",
      "      codecs.register_error that can handle UnicodeEncodeErrors.\n",
      "\n"
     ]
    }
   ],
   "source": [
    "help(\"\".encode)"
   ]
  },
  {
   "cell_type": "code",
   "execution_count": 15,
   "id": "scheduled-cheese",
   "metadata": {},
   "outputs": [],
   "source": [
    "import string"
   ]
  },
  {
   "cell_type": "code",
   "execution_count": 16,
   "id": "nominated-triangle",
   "metadata": {},
   "outputs": [
    {
     "data": {
      "text/plain": [
       "'abcdefghijklmnopqrstuvwxyz'"
      ]
     },
     "execution_count": 16,
     "metadata": {},
     "output_type": "execute_result"
    }
   ],
   "source": [
    "string.ascii_lowercase"
   ]
  },
  {
   "cell_type": "code",
   "execution_count": 17,
   "id": "favorite-blast",
   "metadata": {},
   "outputs": [
    {
     "data": {
      "text/plain": [
       "['a',\n",
       " 'b',\n",
       " 'c',\n",
       " 'd',\n",
       " 'e',\n",
       " 'f',\n",
       " 'g',\n",
       " 'h',\n",
       " 'i',\n",
       " 'j',\n",
       " 'k',\n",
       " 'l',\n",
       " 'm',\n",
       " 'n',\n",
       " 'o',\n",
       " 'p',\n",
       " 'q',\n",
       " 'r',\n",
       " 's',\n",
       " 't',\n",
       " 'u',\n",
       " 'v',\n",
       " 'w',\n",
       " 'x',\n",
       " 'y',\n",
       " 'z',\n",
       " ' ']"
      ]
     },
     "execution_count": 17,
     "metadata": {},
     "output_type": "execute_result"
    }
   ],
   "source": [
    "alphabet = list(string.ascii_lowercase + \" \")\n",
    "alphabet"
   ]
  },
  {
   "cell_type": "code",
   "execution_count": 18,
   "id": "quarterly-shakespeare",
   "metadata": {},
   "outputs": [],
   "source": [
    "def unaccent(s):\n",
    "    \"\"\"\n",
    "    arg\n",
    "      s, str\n",
    "\n",
    "    return\n",
    "      unaccented, str\n",
    "        same string with accent removed. \n",
    "    \"\"\"\n",
    "    #return unicodedata.normalize(\"NFKD\", s).encode(\"ASCII\", \"ignore\").decode(\"utf-8\")\n",
    "    return unicodedata.normalize(\"NFKD\", s).encode(\"ASCII\", \"ignore\").decode(\"ASCII\")"
   ]
  },
  {
   "cell_type": "code",
   "execution_count": 19,
   "id": "single-setting",
   "metadata": {},
   "outputs": [
    {
     "data": {
      "text/plain": [
       "'Un bosque es un ecosistema donde la vegetacion predominante la constituyen los arboles y matas.1 Estas comunidades de plantas cubren grandes areas del globo terraqueo y funcionan como habitats para los animales, moduladores de flujos hidrologicos y conservadores del suelo, constituyendo uno de los aspectos mas importantes de la biosfera de la Tierra. Aunque a menudo se han considerado como consumidores de dioxido de carbono atmosferico, los bosques maduros son practicamente neutros en cuanto al carbono, y son solamente los alterados y los jovenes los que actuan como dichos consumidores.23 De cualquier manera, los bosques maduros juegan un importante papel en el ciclo global del carbono, como reservorios estables de carbono y su eliminacion conlleva un incremento de los niveles de dioxido de carbono atmosferico.\\n\\nLos bosques pueden hallarse en todas las regiones capaces de mantener el crecimiento de arboles, hasta la linea de arboles, excepto donde la frecuencia de fuego natural es demasiado alta, o donde el ambiente ha sido perjudicado por procesos naturales o por actividades humanas. Los bosques a veces contienen muchas especies de arboles dentro de una pequena area (como la selva lluviosa tropical y el bosque templado caducifolio), o relativamente pocas especies en areas grandes (por ejemplo, la taiga y bosques aridos montanosos de coniferas). Los bosques son a menudo hogar de muchos animales y especies de plantas, y la biomasa por area de unidad es alta comparada a otras comunidades de vegetacion. La mayor parte de esta biomasa se halla en el subsuelo en los sistemas de raices y como detritos de plantas parcialmente descompuestos. El componente lenoso de un bosque contiene lignina, cuya descomposicion es relativamente lenta comparado con otros materiales organicos como la celulosa y otros carbohidratos. Los bosques son areas naturales y silvestre'"
      ]
     },
     "execution_count": 19,
     "metadata": {},
     "output_type": "execute_result"
    }
   ],
   "source": [
    "unaccent(samples.Spanish)"
   ]
  },
  {
   "cell_type": "code",
   "execution_count": 20,
   "id": "alone-kenya",
   "metadata": {},
   "outputs": [],
   "source": [
    "def isinalphabet(s):\n",
    "    \"\"\"\n",
    "    arg\n",
    "        s, str\n",
    "        string of a single character\n",
    "\n",
    "    return\n",
    "        dedans, boolean\n",
    "        whether or not s belongs to alphabet\n",
    "    \"\"\"\n",
    "    return s in alphabet"
   ]
  },
  {
   "cell_type": "code",
   "execution_count": 21,
   "id": "entire-label",
   "metadata": {},
   "outputs": [],
   "source": [
    "def clean(s):\n",
    "    \"\"\"\n",
    "    arg\n",
    "        s, str\n",
    "        input string of all sorts of characters: numbers, punctuations, accented latin letters, foreign letters,\n",
    "        etc.\n",
    "\n",
    "    return\n",
    "        unaccented, str\n",
    "        same string with accent, foreign letters removed, uppercase latin to lowercase, punctuations remove\n",
    "        (except space).\n",
    "    \"\"\"\n",
    "    return filter(isinalphabet, unaccent(s).lower())\n",
    "    #return \"\".join(list(filter(isinalphabet, unaccent(s).lower())))"
   ]
  },
  {
   "cell_type": "code",
   "execution_count": 22,
   "id": "nuclear-terrain",
   "metadata": {},
   "outputs": [
    {
     "data": {
      "text/plain": [
       "<filter at 0x7f503807a850>"
      ]
     },
     "execution_count": 22,
     "metadata": {},
     "output_type": "execute_result"
    }
   ],
   "source": [
    "clean(samples.Spanish)"
   ]
  },
  {
   "cell_type": "code",
   "execution_count": 23,
   "id": "velvet-sword",
   "metadata": {},
   "outputs": [
    {
     "data": {
      "text/plain": [
       "[1, 2, 3]"
      ]
     },
     "execution_count": 23,
     "metadata": {},
     "output_type": "execute_result"
    }
   ],
   "source": [
    "list(filter(lambda x: x>0, [1,2,3,-1,0,-2,-3]))"
   ]
  },
  {
   "cell_type": "code",
   "execution_count": 24,
   "id": "modified-conditions",
   "metadata": {},
   "outputs": [
    {
     "data": {
      "text/plain": [
       "'<filter object at 0x7f503806dc10>'"
      ]
     },
     "execution_count": 24,
     "metadata": {},
     "output_type": "execute_result"
    }
   ],
   "source": [
    "str(filter(lambda x: x>0, [1,2,3,-1,0,-2,-3]))"
   ]
  },
  {
   "cell_type": "code",
   "execution_count": 25,
   "id": "smaller-input",
   "metadata": {},
   "outputs": [
    {
     "name": "stdout",
     "output_type": "stream",
     "text": [
      "Help on class filter in module builtins:\n",
      "\n",
      "class filter(object)\n",
      " |  filter(function or None, iterable) --> filter object\n",
      " |  \n",
      " |  Return an iterator yielding those items of iterable for which function(item)\n",
      " |  is true. If function is None, return the items that are true.\n",
      " |  \n",
      " |  Methods defined here:\n",
      " |  \n",
      " |  __getattribute__(self, name, /)\n",
      " |      Return getattr(self, name).\n",
      " |  \n",
      " |  __iter__(self, /)\n",
      " |      Implement iter(self).\n",
      " |  \n",
      " |  __next__(self, /)\n",
      " |      Implement next(self).\n",
      " |  \n",
      " |  __reduce__(...)\n",
      " |      Return state information for pickling.\n",
      " |  \n",
      " |  ----------------------------------------------------------------------\n",
      " |  Static methods defined here:\n",
      " |  \n",
      " |  __new__(*args, **kwargs) from builtins.type\n",
      " |      Create and return a new object.  See help(type) for accurate signature.\n",
      "\n"
     ]
    }
   ],
   "source": [
    "help(filter)"
   ]
  },
  {
   "cell_type": "code",
   "execution_count": 26,
   "id": "sublime-breast",
   "metadata": {},
   "outputs": [
    {
     "data": {
      "text/plain": [
       "\"['a', 'b']\""
      ]
     },
     "execution_count": 26,
     "metadata": {},
     "output_type": "execute_result"
    }
   ],
   "source": [
    "str(['a', 'b'])"
   ]
  },
  {
   "cell_type": "code",
   "execution_count": 27,
   "id": "small-bracelet",
   "metadata": {},
   "outputs": [
    {
     "name": "stdout",
     "output_type": "stream",
     "text": [
      "Help on method_descriptor:\n",
      "\n",
      "join(self, iterable, /)\n",
      "    Concatenate any number of strings.\n",
      "    \n",
      "    The string whose method is called is inserted in between each given string.\n",
      "    The result is returned as a new string.\n",
      "    \n",
      "    Example: '.'.join(['ab', 'pq', 'rs']) -> 'ab.pq.rs'\n",
      "\n"
     ]
    }
   ],
   "source": [
    "help(str.join)"
   ]
  },
  {
   "cell_type": "code",
   "execution_count": 28,
   "id": "liquid-bedroom",
   "metadata": {},
   "outputs": [
    {
     "data": {
      "text/plain": [
       "'pigeon'"
      ]
     },
     "execution_count": 28,
     "metadata": {},
     "output_type": "execute_result"
    }
   ],
   "source": [
    "\"\".join([\"pig\", \"eon\"])"
   ]
  },
  {
   "cell_type": "code",
   "execution_count": 29,
   "id": "premium-amateur",
   "metadata": {},
   "outputs": [],
   "source": [
    "def clean(s):\n",
    "    \"\"\"\n",
    "    arg\n",
    "        s, str\n",
    "        input string of all sorts of characters: numbers, punctuations, accented latin letters, foreign letters,\n",
    "        etc.\n",
    "\n",
    "    return\n",
    "        unaccented, str\n",
    "        same string with accent, foreign letters removed, uppercase latin to lowercase, punctuations remove\n",
    "        (except space).\n",
    "    \"\"\"\n",
    "    #return filter(isinalphabet, unaccent(s).lower())\n",
    "    return \"\".join(list(filter(isinalphabet, unaccent(s).lower())))"
   ]
  },
  {
   "cell_type": "code",
   "execution_count": 30,
   "id": "interim-happiness",
   "metadata": {},
   "outputs": [
    {
     "data": {
      "text/plain": [
       "'un bosque es un ecosistema donde la vegetacion predominante la constituyen los arboles y matas estas comunidades de plantas cubren grandes areas del globo terraqueo y funcionan como habitats para los animales moduladores de flujos hidrologicos y conservadores del suelo constituyendo uno de los aspectos mas importantes de la biosfera de la tierra aunque a menudo se han considerado como consumidores de dioxido de carbono atmosferico los bosques maduros son practicamente neutros en cuanto al carbono y son solamente los alterados y los jovenes los que actuan como dichos consumidores de cualquier manera los bosques maduros juegan un importante papel en el ciclo global del carbono como reservorios estables de carbono y su eliminacion conlleva un incremento de los niveles de dioxido de carbono atmosfericolos bosques pueden hallarse en todas las regiones capaces de mantener el crecimiento de arboles hasta la linea de arboles excepto donde la frecuencia de fuego natural es demasiado alta o donde el ambiente ha sido perjudicado por procesos naturales o por actividades humanas los bosques a veces contienen muchas especies de arboles dentro de una pequena area como la selva lluviosa tropical y el bosque templado caducifolio o relativamente pocas especies en areas grandes por ejemplo la taiga y bosques aridos montanosos de coniferas los bosques son a menudo hogar de muchos animales y especies de plantas y la biomasa por area de unidad es alta comparada a otras comunidades de vegetacion la mayor parte de esta biomasa se halla en el subsuelo en los sistemas de raices y como detritos de plantas parcialmente descompuestos el componente lenoso de un bosque contiene lignina cuya descomposicion es relativamente lenta comparado con otros materiales organicos como la celulosa y otros carbohidratos los bosques son areas naturales y silvestre'"
      ]
     },
     "execution_count": 30,
     "metadata": {},
     "output_type": "execute_result"
    }
   ],
   "source": [
    "clean(samples.Spanish)"
   ]
  },
  {
   "cell_type": "raw",
   "id": "premium-temple",
   "metadata": {},
   "source": [
    "\"a\".index(\"zxya...\")"
   ]
  },
  {
   "cell_type": "raw",
   "id": "rolled-muscle",
   "metadata": {},
   "source": [
    "---------------------------------------------------------------------------\n",
    "ValueError                                Traceback (most recent call last)\n",
    "<ipython-input-48-ea2dbc374c6f> in <module>\n",
    "----> 1 \"a\".index(\"zxya...\")\n",
    "\n",
    "ValueError: substring not found\n"
   ]
  },
  {
   "cell_type": "code",
   "execution_count": 31,
   "id": "opening-customs",
   "metadata": {},
   "outputs": [
    {
     "data": {
      "text/plain": [
       "3"
      ]
     },
     "execution_count": 31,
     "metadata": {},
     "output_type": "execute_result"
    }
   ],
   "source": [
    "\"zxya...\".index(\"a\")"
   ]
  },
  {
   "cell_type": "code",
   "execution_count": 32,
   "id": "quarterly-wealth",
   "metadata": {},
   "outputs": [
    {
     "name": "stdout",
     "output_type": "stream",
     "text": [
      "Help on built-in function index:\n",
      "\n",
      "index(...) method of builtins.str instance\n",
      "    S.index(sub[, start[, end]]) -> int\n",
      "    \n",
      "    Return the lowest index in S where substring sub is found, \n",
      "    such that sub is contained within S[start:end].  Optional\n",
      "    arguments start and end are interpreted as in slice notation.\n",
      "    \n",
      "    Raises ValueError when the substring is not found.\n",
      "\n"
     ]
    }
   ],
   "source": [
    "help(\"\".index)"
   ]
  },
  {
   "cell_type": "code",
   "execution_count": 33,
   "id": "painful-detail",
   "metadata": {},
   "outputs": [
    {
     "data": {
      "text/plain": [
       "25"
      ]
     },
     "execution_count": 33,
     "metadata": {},
     "output_type": "execute_result"
    }
   ],
   "source": [
    "alphabet.index(\"z\")"
   ]
  },
  {
   "cell_type": "code",
   "execution_count": 34,
   "id": "rural-pregnancy",
   "metadata": {},
   "outputs": [],
   "source": [
    "# Implementation w/o numpy\n",
    "\"\"\"\n",
    "def letter_frequencies(txt):\n",
    "    times = [0]*len(alphabet)\n",
    "    for c in txt:\n",
    "        times[alphabet.index(c)] += 1\n",
    "    total = sum(times)\n",
    "    return [x/total for x in times]\n",
    "\n",
    "\"\"\"\n",
    "# Implementation w/ numpy\n",
    "def letter_frequencies(txt):\n",
    "    times = np.zeros(len(alphabet))\n",
    "    for c in txt:\n",
    "        times[alphabet.index(c)] += 1\n",
    "    return times / times.sum()"
   ]
  },
  {
   "cell_type": "code",
   "execution_count": 35,
   "id": "surgical-watts",
   "metadata": {},
   "outputs": [
    {
     "data": {
      "text/plain": [
       "array([0.06313498, 0.00580552, 0.0203193 , 0.04063861, 0.10667634,\n",
       "       0.03193033, 0.02612482, 0.0341074 , 0.06023222, 0.        ,\n",
       "       0.00217707, 0.04063861, 0.01233672, 0.06676343, 0.06676343,\n",
       "       0.01088534, 0.        , 0.05805515, 0.06095791, 0.0682148 ,\n",
       "       0.01886792, 0.01233672, 0.01451379, 0.00072569, 0.01306241,\n",
       "       0.        , 0.16473149])"
      ]
     },
     "execution_count": 35,
     "metadata": {},
     "output_type": "execute_result"
    }
   ],
   "source": [
    "letter_frequencies(clean(samples.English))"
   ]
  },
  {
   "cell_type": "code",
   "execution_count": 36,
   "id": "narrow-moore",
   "metadata": {},
   "outputs": [],
   "source": [
    "first_sample = clean(samples.English)\n",
    "second_sample = clean(samples.Spanish)"
   ]
  },
  {
   "cell_type": "code",
   "execution_count": 37,
   "id": "revolutionary-hypothetical",
   "metadata": {},
   "outputs": [
    {
     "data": {
      "text/plain": [
       "array([0.06313498, 0.00580552, 0.0203193 , 0.04063861, 0.10667634,\n",
       "       0.03193033, 0.02612482, 0.0341074 , 0.06023222, 0.        ,\n",
       "       0.00217707, 0.04063861, 0.01233672, 0.06676343, 0.06676343,\n",
       "       0.01088534, 0.        , 0.05805515, 0.06095791, 0.0682148 ,\n",
       "       0.01886792, 0.01233672, 0.01451379, 0.00072569, 0.01306241,\n",
       "       0.        , 0.16473149])"
      ]
     },
     "execution_count": 37,
     "metadata": {},
     "output_type": "execute_result"
    }
   ],
   "source": [
    "sample_freqs = letter_frequencies(first_sample)\n",
    "sample_freqs"
   ]
  },
  {
   "cell_type": "code",
   "execution_count": 38,
   "id": "approximate-organizer",
   "metadata": {},
   "outputs": [
    {
     "data": {
      "text/plain": [
       "'raes o eaoniyfn egeillv nr ts lreaow lae otldetrtdgntf eylo irtu rcee   e ee ohoda raslttte faed eumtlec s teuioeo sdadsga teel  y  e detrhfdanunanh snanparrdtunti reoysy ecosrsoiteduole  rurren  n odtnuonhtgew rnirm   i sirinnt nol trukr  flewt sarpoo i ln  yooag re llss yrsg devoesoentetr efiapeiieio aseotdhstuaaeniweei dlres ltif ne lna a vwrtf  f lu p rciw nnwpmficon hfre ldegahu uurfaiaom l  '"
      ]
     },
     "execution_count": 38,
     "metadata": {},
     "output_type": "execute_result"
    }
   ],
   "source": [
    "\"\".join([np.random.choice(alphabet, p=sample_freqs) for _ in range(400)])"
   ]
  },
  {
   "cell_type": "markdown",
   "id": "naughty-gasoline",
   "metadata": {},
   "source": [
    "#### Better yet: Save the list comprehension because that's stupidly redundant"
   ]
  },
  {
   "cell_type": "code",
   "execution_count": 39,
   "id": "indie-rider",
   "metadata": {},
   "outputs": [
    {
     "data": {
      "text/plain": [
       "'ttadai old iet geng neehi itesnnwle hinii  vda whstoesgac  n erip hligl tiltgan iitgpf s xurndrvrese itroned yp os ntur e lsu eoiracshnt  rta tidroggl  i entdin r ittcgnslni r d d aico idhrdsi  inebas esca lrpelhg ntbos d r  ews n modhenlloo  o uon gn atarosnobnnrotcp  nts h oshrh gvosc awv oldigsne bipfep  teetb avgntpsld lctoeft lcirseb ioo fng oeilyouerlfaoawtu ta c loaac  uvyptfnd s okishdaymn'"
      ]
     },
     "execution_count": 39,
     "metadata": {},
     "output_type": "execute_result"
    }
   ],
   "source": [
    "\"\".join(np.random.choice(alphabet, 400, p=sample_freqs))"
   ]
  },
  {
   "cell_type": "code",
   "execution_count": null,
   "id": "ultimate-spider",
   "metadata": {},
   "outputs": [],
   "source": []
  }
 ],
 "metadata": {
  "kernelspec": {
   "display_name": "Python 3",
   "language": "python",
   "name": "python3"
  },
  "language_info": {
   "codemirror_mode": {
    "name": "ipython",
    "version": 3
   },
   "file_extension": ".py",
   "mimetype": "text/x-python",
   "name": "python",
   "nbconvert_exporter": "python",
   "pygments_lexer": "ipython3",
   "version": "3.7.9"
  }
 },
 "nbformat": 4,
 "nbformat_minor": 5
}
