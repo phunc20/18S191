{
 "cells": [
  {
   "cell_type": "markdown",
   "id": "southwest-response",
   "metadata": {},
   "source": [
    "### Install a kernel in `IJulia / Jupyter Notebook`\n",
    "Open Julia's REPL and do as follows.\n",
    "```julia\n",
    "julia> using IJulia\n",
    "[ Info: Precompiling IJulia [7073ff75-c697-5162-941a-fcdaad2a7d2a]\n",
    "\n",
    "julia> installkernel(\"Julia (2 threads)\", env=Dict(\"JULIA_NUM_THREADS\" => \"2\"))\n",
    "[ Info: Installing Julia (2 threads) kernelspec in /home/phunc20/.local/share/jupyter/kernels/julia-(2-threads)-1.5\n",
    "\"/home/phunc20/.local/share/jupyter/kernels/julia-(2-threads)-1.5\"\n",
    "\n",
    "julia> notebook()\n",
    "```\n",
    "Once this is done"
   ]
  },
  {
   "cell_type": "code",
   "execution_count": null,
   "id": "centered-python",
   "metadata": {},
   "outputs": [],
   "source": []
  },
  {
   "cell_type": "code",
   "execution_count": null,
   "id": "bigger-consultancy",
   "metadata": {},
   "outputs": [],
   "source": []
  }
 ],
 "metadata": {
  "kernelspec": {
   "display_name": "Julia (2 threads) 1.5.3",
   "language": "julia",
   "name": "julia-(2-threads)-1.5"
  },
  "language_info": {
   "file_extension": ".jl",
   "mimetype": "application/julia",
   "name": "julia",
   "version": "1.5.3"
  }
 },
 "nbformat": 4,
 "nbformat_minor": 5
}
