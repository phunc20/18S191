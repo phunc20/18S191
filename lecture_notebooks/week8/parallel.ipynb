{
 "cells": [
  {
   "cell_type": "markdown",
   "id": "oriented-destruction",
   "metadata": {},
   "source": [
    "### Install a kernel in `IJulia / Jupyter Notebook`\n",
    "Open Julia's REPL and do as follows.\n",
    "```julia\n",
    "julia> using IJulia\n",
    "[ Info: Precompiling IJulia [7073ff75-c697-5162-941a-fcdaad2a7d2a]\n",
    "\n",
    "julia> installkernel(\"Julia (2 threads)\", env=Dict(\"JULIA_NUM_THREADS\" => \"2\"))\n",
    "[ Info: Installing Julia (2 threads) kernelspec in /home/phunc20/.local/share/jupyter/kernels/julia-(2-threads)-1.5\n",
    "\"/home/phunc20/.local/share/jupyter/kernels/julia-(2-threads)-1.5\"\n",
    "\n",
    "julia> notebook()\n",
    "```\n",
    "**Rmk.** One can indicate the root opened by `IJulia/Jupyter notebook` by specifying the arg `dir` as in `notebook(dir=\"~/home/downloads/\")`\n",
    "\n",
    "Once this is done, when Jupyter notebook is opened in the browser, one'd see sth similar to the following:\n",
    "\n",
    "<img src=\"figs/kernel.png\">\n",
    "\n",
    "**Rmk.** Mr. Edelman chose to use `IJulia` for this lecture probably because he wanted to define the same function multiple times, each time modifying/improving it a little bit in order to better show the improvement each modification brings. In `Pluto` a function **can only** be defined exactly **one** cell, whereas in `IJulia/jupyter`, like with Python, functions can be defined and re-defined indefinitely."
   ]
  },
  {
   "cell_type": "code",
   "execution_count": null,
   "id": "applied-highlight",
   "metadata": {},
   "outputs": [],
   "source": []
  },
  {
   "cell_type": "code",
   "execution_count": null,
   "id": "positive-atmosphere",
   "metadata": {},
   "outputs": [],
   "source": []
  }
 ],
 "metadata": {
  "kernelspec": {
   "display_name": "Julia (2 threads) 1.5.3",
   "language": "julia",
   "name": "julia-(2-threads)-1.5"
  },
  "language_info": {
   "file_extension": ".jl",
   "mimetype": "application/julia",
   "name": "julia",
   "version": "1.5.3"
  }
 },
 "nbformat": 4,
 "nbformat_minor": 5
}
